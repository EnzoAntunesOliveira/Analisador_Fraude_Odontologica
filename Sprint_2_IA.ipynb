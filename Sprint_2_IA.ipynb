{
  "nbformat": 4,
  "nbformat_minor": 0,
  "metadata": {
    "colab": {
      "provenance": []
    },
    "kernelspec": {
      "name": "python3",
      "display_name": "Python 3"
    },
    "language_info": {
      "name": "python"
    }
  },
  "cells": [
    {
      "cell_type": "markdown",
      "source": [
        "# Treinamento da IA\n",
        "### Arthur Fenili RM 552752\n",
        "### Enzo Antunes Oliveira RM 553185\n",
        "### Vinicío Raphael RM 553813"
      ],
      "metadata": {
        "id": "RtR1hcE3gcF7"
      }
    },
    {
      "cell_type": "code",
      "execution_count": 21,
      "metadata": {
        "id": "npKJ6cw5eumq"
      },
      "outputs": [],
      "source": [
        "# Importando as bibliotecas\n",
        "import pandas as pd\n",
        "import numpy as np\n",
        "from sklearn.model_selection import train_test_split\n",
        "from sklearn.preprocessing import LabelEncoder\n",
        "from sklearn.ensemble import RandomForestClassifier\n",
        "from sklearn.metrics import accuracy_score, classification_report, confusion_matrix\n",
        "from random import choice, randint, uniform\n",
        "from datetime import timedelta"
      ]
    },
    {
      "cell_type": "code",
      "source": [
        "# Carregando os dados\n",
        "file_path = '/content/Tabela_Treino.csv'\n",
        "data = pd.read_csv(file_path)"
      ],
      "metadata": {
        "id": "haqwk2PBg6Bc"
      },
      "execution_count": 22,
      "outputs": []
    },
    {
      "cell_type": "code",
      "source": [
        "# Garantindo que 'CUSTO_CONSULTA' esteja no formato numérico\n",
        "data['CUSTO_CONSULTA'] = pd.to_numeric(data['CUSTO_CONSULTA'], errors='coerce')\n",
        "data['CUSTO_CONSULTA'].fillna(data['CUSTO_CONSULTA'].mean(), inplace=True)"
      ],
      "metadata": {
        "id": "c8B-EU-0g6JH",
        "colab": {
          "base_uri": "https://localhost:8080/"
        },
        "collapsed": true,
        "outputId": "a6023e95-4977-4550-e1d6-06ab7d6ff87a"
      },
      "execution_count": 23,
      "outputs": [
        {
          "output_type": "stream",
          "name": "stderr",
          "text": [
            "<ipython-input-23-42be65ac4f3a>:3: FutureWarning: A value is trying to be set on a copy of a DataFrame or Series through chained assignment using an inplace method.\n",
            "The behavior will change in pandas 3.0. This inplace method will never work because the intermediate object on which we are setting values always behaves as a copy.\n",
            "\n",
            "For example, when doing 'df[col].method(value, inplace=True)', try using 'df.method({col: value}, inplace=True)' or df[col] = df[col].method(value) instead, to perform the operation inplace on the original object.\n",
            "\n",
            "\n",
            "  data['CUSTO_CONSULTA'].fillna(data['CUSTO_CONSULTA'].mean(), inplace=True)\n"
          ]
        }
      ]
    },
    {
      "cell_type": "code",
      "source": [
        "# Verificar conversão do 'CUSTO_CONSULTA'\n",
        "print(\"Tipo de CUSTO_CONSULTA:\", data['CUSTO_CONSULTA'].dtype)"
      ],
      "metadata": {
        "id": "cmySwS1Ig6MD",
        "colab": {
          "base_uri": "https://localhost:8080/"
        },
        "outputId": "e11ab1c0-3024-4357-f1bc-b79d742c491d"
      },
      "execution_count": 24,
      "outputs": [
        {
          "output_type": "stream",
          "name": "stdout",
          "text": [
            "Tipo de CUSTO_CONSULTA: int64\n"
          ]
        }
      ]
    },
    {
      "cell_type": "code",
      "source": [
        "# Converter 'DATA_CONSULTA' para formato de data\n",
        "data['DATA_CONSULTA'] = pd.to_datetime(data['DATA_CONSULTA'], format='%d/%m/%Y', errors='coerce')"
      ],
      "metadata": {
        "id": "F2vSe4-Eg6Oh"
      },
      "execution_count": 25,
      "outputs": []
    },
    {
      "cell_type": "code",
      "source": [
        "# Definir os limites de preço para os tratamentos\n",
        "pricing_limits = {\n",
        "    \"Restauração Dentária\": (150, 1800),\n",
        "    \"Tratamento de Canal\": (250, 1000),\n",
        "    \"Tratamento Periodontal\": (350, 1500),\n",
        "    \"Implantodontia\": (1500, 3000),\n",
        "    \"Clareamento Dental\": (400, 700)\n",
        "}"
      ],
      "metadata": {
        "id": "BIv_nb9Bg6RI"
      },
      "execution_count": 26,
      "outputs": []
    },
    {
      "cell_type": "code",
      "source": [
        "# Função para verificar se o custo está fora da faixa\n",
        "def cost_out_of_range(row):\n",
        "    treatment_type = row['DESCRICAO_TRATAMENTO']\n",
        "    cost = row['CUSTO_CONSULTA']\n",
        "    if treatment_type in pricing_limits:\n",
        "        min_price, max_price = pricing_limits[treatment_type]\n",
        "        if cost < min_price or cost > max_price:\n",
        "            return 1\n",
        "    return 0"
      ],
      "metadata": {
        "id": "FwKpdvaxg6Tv"
      },
      "execution_count": 27,
      "outputs": []
    },
    {
      "cell_type": "code",
      "source": [
        "# Função\n",
        "data['OUT_OF_RANGE'] = data.apply(cost_out_of_range, axis=1)"
      ],
      "metadata": {
        "id": "ACoGMT4Eilze"
      },
      "execution_count": 28,
      "outputs": []
    },
    {
      "cell_type": "code",
      "source": [
        "# Calcular dias desde a última consulta para o mesmo paciente\n",
        "data = data.sort_values(by=['CPF', 'DATA_CONSULTA'])\n",
        "data['DAYS_SINCE_LAST'] = data.groupby('CPF')['DATA_CONSULTA'].diff().dt.days.fillna(9999)\n",
        "data['RECENT_CONSULTATION'] = np.where(data['DAYS_SINCE_LAST'] <= 2, 1, 0)"
      ],
      "metadata": {
        "id": "O7MO2As-il3W"
      },
      "execution_count": 29,
      "outputs": []
    },
    {
      "cell_type": "code",
      "source": [
        "# Codificar tratamentos e dentistas\n",
        "le_treatment = LabelEncoder()\n",
        "le_dentist = LabelEncoder()\n",
        "\n",
        "data['TREATMENT_ENCODED'] = le_treatment.fit_transform(data['DESCRICAO_TRATAMENTO'])\n",
        "data['DENTIST_ENCODED'] = le_dentist.fit_transform(data['NOME_DENTISTA'])"
      ],
      "metadata": {
        "id": "LnJFRvPpil6n"
      },
      "execution_count": 30,
      "outputs": []
    },
    {
      "cell_type": "code",
      "source": [
        "  # Selecionar as variáveis e o alvo\n",
        "  X = data[['CUSTO_CONSULTA', 'OUT_OF_RANGE', 'RECENT_CONSULTATION', 'TREATMENT_ENCODED', 'DENTIST_ENCODED']]\n",
        "  y = data['SINISTRO']\n",
        "\n",
        "  # Dividir o conjunto em treino e teste\n",
        "  X_train, X_test, y_train, y_test = train_test_split(X, y, test_size=0.2, random_state=42)"
      ],
      "metadata": {
        "id": "F65OJAflil87"
      },
      "execution_count": 31,
      "outputs": []
    },
    {
      "cell_type": "code",
      "source": [
        "# Inicializando o modelo Random Forest\n",
        "rf_model = RandomForestClassifier(random_state=42, n_estimators=100, max_depth=10)\n",
        "\n",
        "# Treinando modelo\n",
        "rf_model.fit(X_train, y_train)\n",
        "\n",
        "# Fazendo previsões no conjunto de teste\n",
        "y_pred = rf_model.predict(X_test)"
      ],
      "metadata": {
        "id": "g2ByF_gQil_f"
      },
      "execution_count": 32,
      "outputs": []
    },
    {
      "cell_type": "code",
      "source": [
        "# Avaliar o modelo\n",
        "accuracy = accuracy_score(y_test, y_pred)\n",
        "report = classification_report(y_test, y_pred)\n",
        "conf_matrix = confusion_matrix(y_test, y_pred)"
      ],
      "metadata": {
        "id": "OnwJAz93imB5"
      },
      "execution_count": 33,
      "outputs": []
    },
    {
      "cell_type": "code",
      "source": [
        "# Exibir resultados\n",
        "print(\"Acurácia do modelo:\", accuracy)\n",
        "print(\"\\nRelatório de Classificação:\\n\", report)\n",
        "print(\"\\nMatriz de Confusão:\\n\", conf_matrix)"
      ],
      "metadata": {
        "colab": {
          "base_uri": "https://localhost:8080/"
        },
        "id": "XBnRSfNIimEP",
        "outputId": "102fbb55-c70f-4363-eaeb-1e0e330c38d1"
      },
      "execution_count": 34,
      "outputs": [
        {
          "output_type": "stream",
          "name": "stdout",
          "text": [
            "Acurácia do modelo: 0.52\n",
            "\n",
            "Relatório de Classificação:\n",
            "               precision    recall  f1-score   support\n",
            "\n",
            "           0       0.65      0.65      0.65        69\n",
            "           1       0.23      0.23      0.23        31\n",
            "\n",
            "    accuracy                           0.52       100\n",
            "   macro avg       0.44      0.44      0.44       100\n",
            "weighted avg       0.52      0.52      0.52       100\n",
            "\n",
            "\n",
            "Matriz de Confusão:\n",
            " [[45 24]\n",
            " [24  7]]\n"
          ]
        }
      ]
    },
    {
      "cell_type": "code",
      "source": [
        "# Contar o número de sinistros (True) na coluna SINISTRO\n",
        "sinistro_count = data['SINISTRO'].sum()\n",
        "total_entries = data.shape[0]"
      ],
      "metadata": {
        "id": "VKKRjhklimGi"
      },
      "execution_count": 35,
      "outputs": []
    },
    {
      "cell_type": "code",
      "source": [
        "# Exibição de sinistros\n",
        "print(f\"Total de sinistros indicados: {sinistro_count}\")\n",
        "print(f\"Proporção de sinistros: {sinistro_count / total_entries:.2%} do total\")"
      ],
      "metadata": {
        "colab": {
          "base_uri": "https://localhost:8080/"
        },
        "id": "Z7pZtU2RimI3",
        "outputId": "34626626-2d65-4b25-d246-e7771db37eca"
      },
      "execution_count": 36,
      "outputs": [
        {
          "output_type": "stream",
          "name": "stdout",
          "text": [
            "Total de sinistros indicados: 165\n",
            "Proporção de sinistros: 33.00% do total\n"
          ]
        }
      ]
    },
    {
      "cell_type": "markdown",
      "source": [
        "# Inserir nova tabelas para saber os sinistros\n"
      ],
      "metadata": {
        "id": "inOZqARTkQ_-"
      }
    },
    {
      "cell_type": "code",
      "source": [
        "# Carregando a nova tabela\n",
        "new_data_path = '/content/Tabela_Sem_Sinistro.csv'\n",
        "new_data = pd.read_csv(new_data_path)\n",
        "\n",
        "# Garantir a conversão das colunas\n",
        "new_data['CUSTO_CONSULTA'] = pd.to_numeric(new_data['CUSTO_CONSULTA'], errors='coerce')\n",
        "new_data['CUSTO_CONSULTA'] = new_data['CUSTO_CONSULTA'].fillna(new_data['CUSTO_CONSULTA'].mean())\n",
        "new_data['DATA_CONSULTA'] = pd.to_datetime(new_data['DATA_CONSULTA'], format='%d/%m/%Y', errors='coerce')\n",
        "\n",
        "# Aplicação das regras\n",
        "new_data['OUT_OF_RANGE'] = new_data.apply(cost_out_of_range, axis=1)\n",
        "new_data = new_data.sort_values(by=['CPF', 'DATA_CONSULTA'])\n",
        "new_data['DAYS_SINCE_LAST'] = new_data.groupby('CPF')['DATA_CONSULTA'].diff().dt.days.fillna(9999)\n",
        "new_data['RECENT_CONSULTATION'] = np.where(new_data['DAYS_SINCE_LAST'] <= 2, 1, 0)\n",
        "\n",
        "# Transformação de variáveis categóricas\n",
        "new_data['TREATMENT_ENCODED'] = le_treatment.transform(new_data['DESCRICAO_TRATAMENTO'])\n",
        "new_data['DENTIST_ENCODED'] = le_dentist.transform(new_data['NOME_DENTISTA'])\n",
        "\n",
        "# Selecionar features para previsão e preencher a coluna SINISTRO\n",
        "X_new = new_data[['CUSTO_CONSULTA', 'OUT_OF_RANGE', 'RECENT_CONSULTATION', 'TREATMENT_ENCODED', 'DENTIST_ENCODED']]\n",
        "new_data['SINISTRO'] = rf_model.predict(X_new)\n",
        "\n",
        "# Contagem e proporção de sinistros identificados\n",
        "sinistro_count_new = new_data['SINISTRO'].sum()\n",
        "total_entries_new = new_data.shape[0]\n",
        "proportion_sinistros = sinistro_count_new / total_entries_new\n",
        "\n",
        "# Exibir resultados\n",
        "print(f\"Total de sinistros indicados: {sinistro_count_new}\")\n",
        "print(f\"Proporção de sinistros: {proportion_sinistros:.2%} do total\")\n",
        "\n",
        "# Salvar a nova tabela com a coluna SINISTRO preenchida para análise posterior\n",
        "output_path = 'Nova_Tabela_Com_Sinistros_Preenchida.csv'\n",
        "new_data.to_csv(output_path, index=False)"
      ],
      "metadata": {
        "colab": {
          "base_uri": "https://localhost:8080/"
        },
        "id": "t85Hw5tFkZMY",
        "outputId": "89adbdc9-3f3e-40bb-8824-a65aaae235bd"
      },
      "execution_count": 37,
      "outputs": [
        {
          "output_type": "stream",
          "name": "stdout",
          "text": [
            "Total de sinistros indicados: 25\n",
            "Proporção de sinistros: 7.46% do total\n"
          ]
        }
      ]
    }
  ]
}